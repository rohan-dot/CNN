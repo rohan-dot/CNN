{
 "cells": [
  {
   "cell_type": "code",
   "execution_count": 11,
   "metadata": {},
   "outputs": [],
   "source": [
    "import pandas as pd"
   ]
  },
  {
   "cell_type": "code",
   "execution_count": 12,
   "metadata": {},
   "outputs": [],
   "source": [
    "train = pd.read_csv(r'C:\\Users\\rlee3104\\Downloads\\Viralspace\\train_Xception.csv')"
   ]
  },
  {
   "cell_type": "code",
   "execution_count": 13,
   "metadata": {},
   "outputs": [
    {
     "data": {
      "text/html": [
       "<div>\n",
       "<style scoped>\n",
       "    .dataframe tbody tr th:only-of-type {\n",
       "        vertical-align: middle;\n",
       "    }\n",
       "\n",
       "    .dataframe tbody tr th {\n",
       "        vertical-align: top;\n",
       "    }\n",
       "\n",
       "    .dataframe thead th {\n",
       "        text-align: right;\n",
       "    }\n",
       "</style>\n",
       "<table border=\"1\" class=\"dataframe\">\n",
       "  <thead>\n",
       "    <tr style=\"text-align: right;\">\n",
       "      <th></th>\n",
       "      <th>Xception Features</th>\n",
       "      <th>Mobile Features</th>\n",
       "      <th>Dense Features</th>\n",
       "      <th>Label</th>\n",
       "    </tr>\n",
       "  </thead>\n",
       "  <tbody>\n",
       "    <tr>\n",
       "      <th>0</th>\n",
       "      <td>0.03210</td>\n",
       "      <td>0.05950</td>\n",
       "      <td>0.00183</td>\n",
       "      <td>0.0</td>\n",
       "    </tr>\n",
       "    <tr>\n",
       "      <th>1</th>\n",
       "      <td>0.98800</td>\n",
       "      <td>0.86800</td>\n",
       "      <td>0.99800</td>\n",
       "      <td>1.0</td>\n",
       "    </tr>\n",
       "    <tr>\n",
       "      <th>2</th>\n",
       "      <td>1.00000</td>\n",
       "      <td>1.00000</td>\n",
       "      <td>0.99700</td>\n",
       "      <td>1.0</td>\n",
       "    </tr>\n",
       "    <tr>\n",
       "      <th>3</th>\n",
       "      <td>0.00677</td>\n",
       "      <td>0.00725</td>\n",
       "      <td>0.00118</td>\n",
       "      <td>0.0</td>\n",
       "    </tr>\n",
       "    <tr>\n",
       "      <th>4</th>\n",
       "      <td>0.99800</td>\n",
       "      <td>0.99000</td>\n",
       "      <td>0.99300</td>\n",
       "      <td>1.0</td>\n",
       "    </tr>\n",
       "  </tbody>\n",
       "</table>\n",
       "</div>"
      ],
      "text/plain": [
       "   Xception Features  Mobile Features  Dense Features  Label\n",
       "0            0.03210          0.05950         0.00183    0.0\n",
       "1            0.98800          0.86800         0.99800    1.0\n",
       "2            1.00000          1.00000         0.99700    1.0\n",
       "3            0.00677          0.00725         0.00118    0.0\n",
       "4            0.99800          0.99000         0.99300    1.0"
      ]
     },
     "execution_count": 13,
     "metadata": {},
     "output_type": "execute_result"
    }
   ],
   "source": [
    "train.head()"
   ]
  },
  {
   "cell_type": "code",
   "execution_count": 14,
   "metadata": {},
   "outputs": [],
   "source": [
    "label = train['Label']"
   ]
  },
  {
   "cell_type": "code",
   "execution_count": 15,
   "metadata": {},
   "outputs": [],
   "source": [
    "train.drop(['Label'],inplace = True,axis=1)"
   ]
  },
  {
   "cell_type": "code",
   "execution_count": 16,
   "metadata": {},
   "outputs": [],
   "source": [
    "import xgboost as xgb"
   ]
  },
  {
   "cell_type": "code",
   "execution_count": 17,
   "metadata": {},
   "outputs": [],
   "source": [
    "params = {'colsample_bytree': 0.8,'learning_rate': 0.0003, 'max_depth': 8, 'n_estimators': 1000, 'subsample': 1,'objective':'binary:logistic','eval_metric':'logloss','scale_pos_weight':0.15}\n"
   ]
  },
  {
   "cell_type": "code",
   "execution_count": 18,
   "metadata": {},
   "outputs": [],
   "source": [
    "dt =xgdmat=xgb.DMatrix(train,label)"
   ]
  },
  {
   "cell_type": "code",
   "execution_count": 19,
   "metadata": {},
   "outputs": [
    {
     "name": "stdout",
     "output_type": "stream",
     "text": [
      "[0]\ttrain-logloss:0.692868\n",
      "[200]\ttrain-logloss:0.641034\n",
      "[400]\ttrain-logloss:0.594465\n",
      "[600]\ttrain-logloss:0.552444\n",
      "[800]\ttrain-logloss:0.514191\n",
      "[1000]\ttrain-logloss:0.479204\n",
      "[1200]\ttrain-logloss:0.447301\n",
      "[1400]\ttrain-logloss:0.417902\n",
      "[1600]\ttrain-logloss:0.390979\n",
      "[1800]\ttrain-logloss:0.366264\n",
      "[1999]\ttrain-logloss:0.343663\n"
     ]
    }
   ],
   "source": [
    "model = xgb.train(params, dt, 2000, [(dt, \"train\")], verbose_eval=200)"
   ]
  },
  {
   "cell_type": "code",
   "execution_count": 20,
   "metadata": {},
   "outputs": [],
   "source": [
    "from termcolor import colored\n",
    "#from sklearn.cross_validation import KFold\n",
    "\n",
    "from sklearn.metrics import confusion_matrix"
   ]
  },
  {
   "cell_type": "code",
   "execution_count": 21,
   "metadata": {},
   "outputs": [],
   "source": [
    "test = pd.read_csv(r'C:\\Users\\rlee3104\\Downloads\\Viralspace\\viral_label.csv')"
   ]
  },
  {
   "cell_type": "code",
   "execution_count": 24,
   "metadata": {},
   "outputs": [],
   "source": [
    "label_test = test['Label']\n",
    "test.drop(['Label'],inplace = True,axis=1)"
   ]
  },
  {
   "cell_type": "code",
   "execution_count": 25,
   "metadata": {},
   "outputs": [],
   "source": [
    "dte = xgdmat=xgb.DMatrix(test)"
   ]
  },
  {
   "cell_type": "code",
   "execution_count": 26,
   "metadata": {},
   "outputs": [
    {
     "name": "stdout",
     "output_type": "stream",
     "text": [
      "\u001b[31mThe Confusion Matrix is: \u001b[0m \n",
      " [[35  8]\n",
      " [ 6 70]]\n",
      "\u001b[34mThe Accuracy on Test Set is: \u001b[0m \u001b[34m0.8823529411764706\u001b[0m\n"
     ]
    }
   ],
   "source": [
    "y_pred1 = model.predict(dte)\n",
    "# Making the Confusion Matrix\n",
    "cm = confusion_matrix(label_test, (y_pred1>0.5))\n",
    "print(colored('The Confusion Matrix is: ', 'red'),'\\n', cm)\n",
    "# Calculate the accuracy on test set\n",
    "predict_accuracy_on_test_set = (cm[0,0] + cm[1,1])/(cm[0,0] + cm[1,1]+cm[1,0] + cm[0,1])\n",
    "print(colored('The Accuracy on Test Set is: ', 'blue'), colored(predict_accuracy_on_test_set, 'blue'))"
   ]
  },
  {
   "cell_type": "code",
   "execution_count": null,
   "metadata": {},
   "outputs": [],
   "source": []
  }
 ],
 "metadata": {
  "kernelspec": {
   "display_name": "Python 3",
   "language": "python",
   "name": "python3"
  },
  "language_info": {
   "codemirror_mode": {
    "name": "ipython",
    "version": 3
   },
   "file_extension": ".py",
   "mimetype": "text/x-python",
   "name": "python",
   "nbconvert_exporter": "python",
   "pygments_lexer": "ipython3",
   "version": "3.7.3"
  }
 },
 "nbformat": 4,
 "nbformat_minor": 2
}
